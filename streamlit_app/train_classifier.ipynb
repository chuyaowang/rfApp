{
 "cells": [
  {
   "cell_type": "markdown",
   "metadata": {},
   "source": [
    "# Random Forest Classifier"
   ]
  },
  {
   "cell_type": "markdown",
   "metadata": {},
   "source": [
    "## Load data"
   ]
  },
  {
   "cell_type": "code",
   "execution_count": 4,
   "metadata": {
    "ExecuteTime": {
     "end_time": "2023-04-27T11:20:59.031155Z",
     "start_time": "2023-04-27T11:20:58.701833Z"
    }
   },
   "outputs": [],
   "source": [
    "import numpy as np\n",
    "import pandas as pd\n",
    "\n",
    "df = pd.read_csv('~/R Projects/rfApp/streamlit_app/data/dev/train.csv', header=0, encoding = \"utf8\", index_col=False)\n",
    "X = df.iloc[:,1:3].to_numpy()\n",
    "y = df.iloc[:,0].to_numpy()"
   ]
  },
  {
   "attachments": {},
   "cell_type": "markdown",
   "metadata": {},
   "source": [
    "### Scatter Plot"
   ]
  },
  {
   "cell_type": "code",
   "execution_count": 5,
   "metadata": {},
   "outputs": [
    {
     "data": {
      "text/plain": [
       "Text(0.5, 1.0, '数据分布散点图')"
      ]
     },
     "execution_count": 5,
     "metadata": {},
     "output_type": "execute_result"
    },
    {
     "data": {
      "image/png": "[encoded data removed]",
      "text/plain": [
       "<Figure size 432x432 with 1 Axes>"
      ]
     },
     "metadata": {
      "needs_background": "light"
     },
     "output_type": "display_data"
    }
   ],
   "source": [
    "import matplotlib.pyplot as plt\n",
    "import seaborn as sns\n",
    "import matplotlib\n",
    "matplotlib.rcParams['font.family'] = ['Heiti TC'] # Set font for Chinese\n",
    "\n",
    "fig, ax = plt.subplots(figsize = (6,6))\n",
    "\n",
    "sns.scatterplot(data = df, x = \"x1\", y=\"x2\", hue = \"y\")\n",
    "plt.legend(title= \"图例\", fontsize=12)\n",
    "plt.xlabel(\"δ29\", fontsize=12)\n",
    "plt.ylabel(\"δ30\", fontsize=12)\n",
    "plt.title(\"数据分布散点图\", fontsize=12)\n"
   ]
  },
  {
   "cell_type": "markdown",
   "metadata": {},
   "source": [
    "## Split for training and testing"
   ]
  },
  {
   "cell_type": "code",
   "execution_count": 6,
   "metadata": {
    "ExecuteTime": {
     "end_time": "2023-04-27T11:20:59.431731Z",
     "start_time": "2023-04-27T11:20:59.030693Z"
    }
   },
   "outputs": [],
   "source": [
    "from sklearn.model_selection import train_test_split\n",
    "\n",
    "X_train, X_test, y_train, y_test = train_test_split(X, y, test_size=0.3, random_state=15)"
   ]
  },
  {
   "cell_type": "code",
   "execution_count": 4,
   "metadata": {
    "ExecuteTime": {
     "end_time": "2023-04-27T11:20:59.440332Z",
     "start_time": "2023-04-27T11:20:59.433324Z"
    }
   },
   "outputs": [
    {
     "data": {
      "text/plain": [
       "((21, 2), (21,))"
      ]
     },
     "execution_count": 4,
     "metadata": {},
     "output_type": "execute_result"
    }
   ],
   "source": [
    "X_train.shape, y_train.shape"
   ]
  },
  {
   "cell_type": "code",
   "execution_count": 5,
   "metadata": {
    "ExecuteTime": {
     "end_time": "2023-04-27T11:20:59.440675Z",
     "start_time": "2023-04-27T11:20:59.436680Z"
    }
   },
   "outputs": [
    {
     "data": {
      "text/plain": [
       "((9, 2), (9,))"
      ]
     },
     "execution_count": 5,
     "metadata": {},
     "output_type": "execute_result"
    }
   ],
   "source": [
    "X_test.shape, y_test.shape"
   ]
  },
  {
   "cell_type": "markdown",
   "metadata": {},
   "source": [
    "## Make classifier object"
   ]
  },
  {
   "cell_type": "code",
   "execution_count": 7,
   "metadata": {
    "ExecuteTime": {
     "end_time": "2023-04-27T11:20:59.518687Z",
     "start_time": "2023-04-27T11:20:59.440945Z"
    }
   },
   "outputs": [],
   "source": [
    "from sklearn.ensemble import RandomForestClassifier\n",
    "clf = RandomForestClassifier(n_estimators=100, random_state=0)"
   ]
  },
  {
   "cell_type": "markdown",
   "metadata": {},
   "source": [
    "## Model evaluation"
   ]
  },
  {
   "cell_type": "code",
   "execution_count": 7,
   "metadata": {
    "ExecuteTime": {
     "end_time": "2023-04-27T11:20:59.523186Z",
     "start_time": "2023-04-27T11:20:59.519247Z"
    }
   },
   "outputs": [],
   "source": [
    "from sklearn.metrics import get_scorer_names\n",
    "scores = get_scorer_names()"
   ]
  },
  {
   "cell_type": "code",
   "execution_count": 8,
   "metadata": {
    "ExecuteTime": {
     "end_time": "2023-04-27T11:20:59.764151Z",
     "start_time": "2023-04-27T11:20:59.525173Z"
    }
   },
   "outputs": [],
   "source": [
    "from sklearn.model_selection import cross_validate\n",
    "\n",
    "# Precision: tp/(tp+fp)\n",
    "# recall: tp/(tp+fn)\n",
    "# accuracy: (tp+tn)/(tp+tn+fp+fn)\n",
    "# f1: 2*precision*recall/(precision+recall)\n",
    "\n",
    "scoring = ['precision_macro', 'recall_macro', 'accuracy', 'f1_macro']\n",
    "scores = cross_validate(estimator=clf, X=X_train, y=y_train, scoring=scoring)"
   ]
  },
  {
   "cell_type": "code",
   "execution_count": 9,
   "metadata": {
    "ExecuteTime": {
     "end_time": "2023-04-27T11:20:59.773444Z",
     "start_time": "2023-04-27T11:20:59.766232Z"
    }
   },
   "outputs": [
    {
     "data": {
      "text/html": [
       "<div>\n",
       "<style scoped>\n",
       "    .dataframe tbody tr th:only-of-type {\n",
       "        vertical-align: middle;\n",
       "    }\n",
       "\n",
       "    .dataframe tbody tr th {\n",
       "        vertical-align: top;\n",
       "    }\n",
       "\n",
       "    .dataframe thead th {\n",
       "        text-align: right;\n",
       "    }\n",
       "</style>\n",
       "<table border=\"1\" class=\"dataframe\">\n",
       "  <thead>\n",
       "    <tr style=\"text-align: right;\">\n",
       "      <th></th>\n",
       "      <th>fit_time</th>\n",
       "      <th>score_time</th>\n",
       "      <th>test_precision_macro</th>\n",
       "      <th>test_recall_macro</th>\n",
       "      <th>test_accuracy</th>\n",
       "      <th>test_f1_macro</th>\n",
       "    </tr>\n",
       "  </thead>\n",
       "  <tbody>\n",
       "    <tr>\n",
       "      <th>0</th>\n",
       "      <td>0.043799</td>\n",
       "      <td>0.003404</td>\n",
       "      <td>0.833333</td>\n",
       "      <td>0.833333</td>\n",
       "      <td>0.8</td>\n",
       "      <td>0.777778</td>\n",
       "    </tr>\n",
       "    <tr>\n",
       "      <th>1</th>\n",
       "      <td>0.040647</td>\n",
       "      <td>0.003103</td>\n",
       "      <td>1.000000</td>\n",
       "      <td>1.000000</td>\n",
       "      <td>1.0</td>\n",
       "      <td>1.000000</td>\n",
       "    </tr>\n",
       "    <tr>\n",
       "      <th>2</th>\n",
       "      <td>0.041274</td>\n",
       "      <td>0.003083</td>\n",
       "      <td>1.000000</td>\n",
       "      <td>1.000000</td>\n",
       "      <td>1.0</td>\n",
       "      <td>1.000000</td>\n",
       "    </tr>\n",
       "    <tr>\n",
       "      <th>3</th>\n",
       "      <td>0.040999</td>\n",
       "      <td>0.003071</td>\n",
       "      <td>1.000000</td>\n",
       "      <td>1.000000</td>\n",
       "      <td>1.0</td>\n",
       "      <td>1.000000</td>\n",
       "    </tr>\n",
       "    <tr>\n",
       "      <th>4</th>\n",
       "      <td>0.041284</td>\n",
       "      <td>0.003051</td>\n",
       "      <td>1.000000</td>\n",
       "      <td>1.000000</td>\n",
       "      <td>1.0</td>\n",
       "      <td>1.000000</td>\n",
       "    </tr>\n",
       "  </tbody>\n",
       "</table>\n",
       "</div>"
      ],
      "text/plain": [
       "   fit_time  score_time  test_precision_macro  test_recall_macro  \\\n",
       "0  0.043799    0.003404              0.833333           0.833333   \n",
       "1  0.040647    0.003103              1.000000           1.000000   \n",
       "2  0.041274    0.003083              1.000000           1.000000   \n",
       "3  0.040999    0.003071              1.000000           1.000000   \n",
       "4  0.041284    0.003051              1.000000           1.000000   \n",
       "\n",
       "   test_accuracy  test_f1_macro  \n",
       "0            0.8       0.777778  \n",
       "1            1.0       1.000000  \n",
       "2            1.0       1.000000  \n",
       "3            1.0       1.000000  \n",
       "4            1.0       1.000000  "
      ]
     },
     "execution_count": 9,
     "metadata": {},
     "output_type": "execute_result"
    }
   ],
   "source": [
    "sorted(scores.keys())\n",
    "scores_df = pd.DataFrame(scores)\n",
    "scores_df"
   ]
  },
  {
   "cell_type": "markdown",
   "metadata": {},
   "source": [
    "> High accuracy, precision, recall, and F1"
   ]
  },
  {
   "cell_type": "markdown",
   "metadata": {},
   "source": [
    "## Model training"
   ]
  },
  {
   "cell_type": "code",
   "execution_count": 8,
   "metadata": {
    "ExecuteTime": {
     "end_time": "2023-04-27T11:20:59.884345Z",
     "start_time": "2023-04-27T11:20:59.785672Z"
    }
   },
   "outputs": [
    {
     "data": {
      "text/html": [
       "<style>#sk-container-id-1 {color: black;background-color: white;}#sk-container-id-1 pre{padding: 0;}#sk-container-id-1 div.sk-toggleable {background-color: white;}#sk-container-id-1 label.sk-toggleable__label {cursor: pointer;display: block;width: 100%;margin-bottom: 0;padding: 0.3em;box-sizing: border-box;text-align: center;}#sk-container-id-1 label.sk-toggleable__label-arrow:before {content: \"▸\";float: left;margin-right: 0.25em;color: #696969;}#sk-container-id-1 label.sk-toggleable__label-arrow:hover:before {color: black;}#sk-container-id-1 div.sk-estimator:hover label.sk-toggleable__label-arrow:before {color: black;}#sk-container-id-1 div.sk-toggleable__content {max-height: 0;max-width: 0;overflow: hidden;text-align: left;background-color: #f0f8ff;}#sk-container-id-1 div.sk-toggleable__content pre {margin: 0.2em;color: black;border-radius: 0.25em;background-color: #f0f8ff;}#sk-container-id-1 input.sk-toggleable__control:checked~div.sk-toggleable__content {max-height: 200px;max-width: 100%;overflow: auto;}#sk-container-id-1 input.sk-toggleable__control:checked~label.sk-toggleable__label-arrow:before {content: \"▾\";}#sk-container-id-1 div.sk-estimator input.sk-toggleable__control:checked~label.sk-toggleable__label {background-color: #d4ebff;}#sk-container-id-1 div.sk-label input.sk-toggleable__control:checked~label.sk-toggleable__label {background-color: #d4ebff;}#sk-container-id-1 input.sk-hidden--visually {border: 0;clip: rect(1px 1px 1px 1px);clip: rect(1px, 1px, 1px, 1px);height: 1px;margin: -1px;overflow: hidden;padding: 0;position: absolute;width: 1px;}#sk-container-id-1 div.sk-estimator {font-family: monospace;background-color: #f0f8ff;border: 1px dotted black;border-radius: 0.25em;box-sizing: border-box;margin-bottom: 0.5em;}#sk-container-id-1 div.sk-estimator:hover {background-color: #d4ebff;}#sk-container-id-1 div.sk-parallel-item::after {content: \"\";width: 100%;border-bottom: 1px solid gray;flex-grow: 1;}#sk-container-id-1 div.sk-label:hover label.sk-toggleable__label {background-color: #d4ebff;}#sk-container-id-1 div.sk-serial::before {content: \"\";position: absolute;border-left: 1px solid gray;box-sizing: border-box;top: 0;bottom: 0;left: 50%;z-index: 0;}#sk-container-id-1 div.sk-serial {display: flex;flex-direction: column;align-items: center;background-color: white;padding-right: 0.2em;padding-left: 0.2em;position: relative;}#sk-container-id-1 div.sk-item {position: relative;z-index: 1;}#sk-container-id-1 div.sk-parallel {display: flex;align-items: stretch;justify-content: center;background-color: white;position: relative;}#sk-container-id-1 div.sk-item::before, #sk-container-id-1 div.sk-parallel-item::before {content: \"\";position: absolute;border-left: 1px solid gray;box-sizing: border-box;top: 0;bottom: 0;left: 50%;z-index: -1;}#sk-container-id-1 div.sk-parallel-item {display: flex;flex-direction: column;z-index: 1;position: relative;background-color: white;}#sk-container-id-1 div.sk-parallel-item:first-child::after {align-self: flex-end;width: 50%;}#sk-container-id-1 div.sk-parallel-item:last-child::after {align-self: flex-start;width: 50%;}#sk-container-id-1 div.sk-parallel-item:only-child::after {width: 0;}#sk-container-id-1 div.sk-dashed-wrapped {border: 1px dashed gray;margin: 0 0.4em 0.5em 0.4em;box-sizing: border-box;padding-bottom: 0.4em;background-color: white;}#sk-container-id-1 div.sk-label label {font-family: monospace;font-weight: bold;display: inline-block;line-height: 1.2em;}#sk-container-id-1 div.sk-label-container {text-align: center;}#sk-container-id-1 div.sk-container {/* jupyter's `normalize.less` sets `[hidden] { display: none; }` but bootstrap.min.css set `[hidden] { display: none !important; }` so we also need the `!important` here to be able to override the default hidden behavior on the sphinx rendered scikit-learn.org. See: https://github.com/scikit-learn/scikit-learn/issues/21755 */display: inline-block !important;position: relative;}#sk-container-id-1 div.sk-text-repr-fallback {display: none;}</style><div id=\"sk-container-id-1\" class=\"sk-top-container\"><div class=\"sk-text-repr-fallback\"><pre>RandomForestClassifier(random_state=0)</pre><b>In a Jupyter environment, please rerun this cell to show the HTML representation or trust the notebook. <br />On GitHub, the HTML representation is unable to render, please try loading this page with nbviewer.org.</b></div><div class=\"sk-container\" hidden><div class=\"sk-item\"><div class=\"sk-estimator sk-toggleable\"><input class=\"sk-toggleable__control sk-hidden--visually\" id=\"sk-estimator-id-1\" type=\"checkbox\" checked><label for=\"sk-estimator-id-1\" class=\"sk-toggleable__label sk-toggleable__label-arrow\">RandomForestClassifier</label><div class=\"sk-toggleable__content\"><pre>RandomForestClassifier(random_state=0)</pre></div></div></div></div></div>"
      ],
      "text/plain": [
       "RandomForestClassifier(random_state=0)"
      ]
     },
     "execution_count": 8,
     "metadata": {},
     "output_type": "execute_result"
    }
   ],
   "source": [
    "clf.fit(X_train, y_train)"
   ]
  },
  {
   "cell_type": "code",
   "execution_count": 9,
   "metadata": {
    "ExecuteTime": {
     "end_time": "2023-04-27T11:20:59.884589Z",
     "start_time": "2023-04-27T11:20:59.826439Z"
    }
   },
   "outputs": [],
   "source": [
    "y_pred = clf.predict(X_test)\n",
    "y_score = clf.predict_proba(X_test)\n",
    "y_total = pd.DataFrame(np.concatenate((y_pred.reshape(-1,1),y_score),axis=1),columns = [\"预测\",\"混合源\",\"矿砂源\",\"稻壳源\"])"
   ]
  },
  {
   "cell_type": "code",
   "execution_count": 10,
   "metadata": {},
   "outputs": [
    {
     "data": {
      "text/html": [
       "<div>\n",
       "<style scoped>\n",
       "    .dataframe tbody tr th:only-of-type {\n",
       "        vertical-align: middle;\n",
       "    }\n",
       "\n",
       "    .dataframe tbody tr th {\n",
       "        vertical-align: top;\n",
       "    }\n",
       "\n",
       "    .dataframe thead th {\n",
       "        text-align: right;\n",
       "    }\n",
       "</style>\n",
       "<table border=\"1\" class=\"dataframe\">\n",
       "  <thead>\n",
       "    <tr style=\"text-align: right;\">\n",
       "      <th></th>\n",
       "      <th>预测</th>\n",
       "      <th>混合源</th>\n",
       "      <th>矿砂源</th>\n",
       "      <th>稻壳源</th>\n",
       "    </tr>\n",
       "  </thead>\n",
       "  <tbody>\n",
       "    <tr>\n",
       "      <th>0</th>\n",
       "      <td>稻壳源</td>\n",
       "      <td>0.0</td>\n",
       "      <td>0.0</td>\n",
       "      <td>1.0</td>\n",
       "    </tr>\n",
       "    <tr>\n",
       "      <th>1</th>\n",
       "      <td>稻壳源</td>\n",
       "      <td>0.0</td>\n",
       "      <td>0.0</td>\n",
       "      <td>1.0</td>\n",
       "    </tr>\n",
       "    <tr>\n",
       "      <th>2</th>\n",
       "      <td>混合源</td>\n",
       "      <td>1.0</td>\n",
       "      <td>0.0</td>\n",
       "      <td>0.0</td>\n",
       "    </tr>\n",
       "    <tr>\n",
       "      <th>3</th>\n",
       "      <td>矿砂源</td>\n",
       "      <td>0.35</td>\n",
       "      <td>0.65</td>\n",
       "      <td>0.0</td>\n",
       "    </tr>\n",
       "    <tr>\n",
       "      <th>4</th>\n",
       "      <td>混合源</td>\n",
       "      <td>0.99</td>\n",
       "      <td>0.0</td>\n",
       "      <td>0.01</td>\n",
       "    </tr>\n",
       "    <tr>\n",
       "      <th>5</th>\n",
       "      <td>混合源</td>\n",
       "      <td>0.99</td>\n",
       "      <td>0.0</td>\n",
       "      <td>0.01</td>\n",
       "    </tr>\n",
       "    <tr>\n",
       "      <th>6</th>\n",
       "      <td>矿砂源</td>\n",
       "      <td>0.0</td>\n",
       "      <td>1.0</td>\n",
       "      <td>0.0</td>\n",
       "    </tr>\n",
       "    <tr>\n",
       "      <th>7</th>\n",
       "      <td>混合源</td>\n",
       "      <td>0.99</td>\n",
       "      <td>0.0</td>\n",
       "      <td>0.01</td>\n",
       "    </tr>\n",
       "    <tr>\n",
       "      <th>8</th>\n",
       "      <td>混合源</td>\n",
       "      <td>1.0</td>\n",
       "      <td>0.0</td>\n",
       "      <td>0.0</td>\n",
       "    </tr>\n",
       "  </tbody>\n",
       "</table>\n",
       "</div>"
      ],
      "text/plain": [
       "    预测   混合源   矿砂源   稻壳源\n",
       "0  稻壳源   0.0   0.0   1.0\n",
       "1  稻壳源   0.0   0.0   1.0\n",
       "2  混合源   1.0   0.0   0.0\n",
       "3  矿砂源  0.35  0.65   0.0\n",
       "4  混合源  0.99   0.0  0.01\n",
       "5  混合源  0.99   0.0  0.01\n",
       "6  矿砂源   0.0   1.0   0.0\n",
       "7  混合源  0.99   0.0  0.01\n",
       "8  混合源   1.0   0.0   0.0"
      ]
     },
     "execution_count": 10,
     "metadata": {},
     "output_type": "execute_result"
    }
   ],
   "source": [
    "y_total"
   ]
  },
  {
   "cell_type": "code",
   "execution_count": 13,
   "metadata": {
    "ExecuteTime": {
     "end_time": "2023-04-27T11:20:59.884899Z",
     "start_time": "2023-04-27T11:20:59.835960Z"
    }
   },
   "outputs": [
    {
     "data": {
      "text/html": [
       "<div>\n",
       "<style scoped>\n",
       "    .dataframe tbody tr th:only-of-type {\n",
       "        vertical-align: middle;\n",
       "    }\n",
       "\n",
       "    .dataframe tbody tr th {\n",
       "        vertical-align: top;\n",
       "    }\n",
       "\n",
       "    .dataframe thead th {\n",
       "        text-align: right;\n",
       "    }\n",
       "</style>\n",
       "<table border=\"1\" class=\"dataframe\">\n",
       "  <thead>\n",
       "    <tr style=\"text-align: right;\">\n",
       "      <th></th>\n",
       "      <th>pred</th>\n",
       "      <th>true</th>\n",
       "    </tr>\n",
       "  </thead>\n",
       "  <tbody>\n",
       "    <tr>\n",
       "      <th>0</th>\n",
       "      <td>稻壳源</td>\n",
       "      <td>稻壳源</td>\n",
       "    </tr>\n",
       "    <tr>\n",
       "      <th>1</th>\n",
       "      <td>稻壳源</td>\n",
       "      <td>稻壳源</td>\n",
       "    </tr>\n",
       "    <tr>\n",
       "      <th>2</th>\n",
       "      <td>混合源</td>\n",
       "      <td>混合源</td>\n",
       "    </tr>\n",
       "    <tr>\n",
       "      <th>3</th>\n",
       "      <td>矿砂源</td>\n",
       "      <td>矿砂源</td>\n",
       "    </tr>\n",
       "    <tr>\n",
       "      <th>4</th>\n",
       "      <td>混合源</td>\n",
       "      <td>混合源</td>\n",
       "    </tr>\n",
       "  </tbody>\n",
       "</table>\n",
       "</div>"
      ],
      "text/plain": [
       "  pred true\n",
       "0  稻壳源  稻壳源\n",
       "1  稻壳源  稻壳源\n",
       "2  混合源  混合源\n",
       "3  矿砂源  矿砂源\n",
       "4  混合源  混合源"
      ]
     },
     "execution_count": 13,
     "metadata": {},
     "output_type": "execute_result"
    }
   ],
   "source": [
    "pd.DataFrame({'pred':y_pred,'true':y_test}).head()"
   ]
  },
  {
   "cell_type": "markdown",
   "metadata": {},
   "source": [
    "> Accurate predictions in the testing dataset"
   ]
  },
  {
   "attachments": {},
   "cell_type": "markdown",
   "metadata": {},
   "source": [
    "### Save the model"
   ]
  },
  {
   "cell_type": "code",
   "execution_count": 14,
   "metadata": {},
   "outputs": [],
   "source": [
    "from datetime import datetime\n",
    "from joblib import dump, load\n",
    "\n",
    "current = datetime.today()\n",
    "filename = \"model/model_\"+current.strftime(\"%m-%d-%Y-%H%M%S\")+\".joblib\"\n",
    "\n",
    "dump(clf,filename)\n",
    "clf2 = load(filename)"
   ]
  },
  {
   "cell_type": "markdown",
   "metadata": {},
   "source": [
    "## ROC-AUC Analysis"
   ]
  },
  {
   "cell_type": "code",
   "execution_count": 15,
   "metadata": {
    "ExecuteTime": {
     "end_time": "2023-04-27T11:20:59.885187Z",
     "start_time": "2023-04-27T11:20:59.840498Z"
    }
   },
   "outputs": [
    {
     "name": "stdout",
     "output_type": "stream",
     "text": [
      "[('混合源', '矿砂源'), ('混合源', '稻壳源'), ('矿砂源', '稻壳源')]\n"
     ]
    }
   ],
   "source": [
    "from itertools import combinations\n",
    "\n",
    "pair_list = list(combinations(np.unique(y_test),2))\n",
    "print(pair_list)"
   ]
  },
  {
   "cell_type": "code",
   "execution_count": 16,
   "metadata": {
    "ExecuteTime": {
     "end_time": "2023-04-27T11:20:59.885277Z",
     "start_time": "2023-04-27T11:20:59.845020Z"
    }
   },
   "outputs": [],
   "source": [
    "from sklearn.preprocessing import LabelBinarizer\n",
    "\n",
    "label_binarizer = LabelBinarizer().fit(y_train) # The fitting process involves learning how many labels are there and their names\n",
    "y_onehot_test = label_binarizer.transform(y_test) # transform true y labels from the test set"
   ]
  },
  {
   "cell_type": "code",
   "execution_count": 17,
   "metadata": {
    "ExecuteTime": {
     "end_time": "2023-04-27T11:20:59.885503Z",
     "start_time": "2023-04-27T11:20:59.849586Z"
    }
   },
   "outputs": [
    {
     "data": {
      "text/plain": [
       "array(['混合源', '矿砂源', '稻壳源'], dtype='<U3')"
      ]
     },
     "execution_count": 17,
     "metadata": {},
     "output_type": "execute_result"
    }
   ],
   "source": [
    "target_names = label_binarizer.classes_\n",
    "target_names"
   ]
  },
  {
   "cell_type": "code",
   "execution_count": 20,
   "metadata": {
    "ExecuteTime": {
     "end_time": "2023-04-27T11:21:00.468366Z",
     "start_time": "2023-04-27T11:20:59.856897Z"
    }
   },
   "outputs": [
    {
     "data": {
      "image/png": "[encoded data removed]",
      "text/plain": [
       "<Figure size 432x432 with 1 Axes>"
      ]
     },
     "metadata": {
      "needs_background": "light"
     },
     "output_type": "display_data"
    },
    {
     "data": {
      "image/png": "[encoded data removed]",
      "text/plain": [
       "<Figure size 432x432 with 1 Axes>"
      ]
     },
     "metadata": {
      "needs_background": "light"
     },
     "output_type": "display_data"
    },
    {
     "data": {
      "image/png": "[encoded data removed]",
      "text/plain": [
       "<Figure size 432x432 with 1 Axes>"
      ]
     },
     "metadata": {
      "needs_background": "light"
     },
     "output_type": "display_data"
    },
    {
     "name": "stdout",
     "output_type": "stream",
     "text": [
      "Macro-averaged One-vs-One ROC AUC score:\n",
      "1.00\n"
     ]
    }
   ],
   "source": [
    "from sklearn.metrics import roc_auc_score, roc_curve, auc, RocCurveDisplay\n",
    "\n",
    "pair_scores = []\n",
    "mean_tpr = dict()\n",
    "\n",
    "# Iterate through all pairs\n",
    "for ix, (label_a, label_b) in enumerate(pair_list): # label a: first in the pair, label b: second in the pair\n",
    "\n",
    "    a_mask = y_test == label_a # All y_tests that are 1 with label a\n",
    "    b_mask = y_test == label_b # All y_tests that are 1 with label b\n",
    "    ab_mask = np.logical_or(a_mask, b_mask) # All y_tests that are 1 for either a or b; remove the cases when c is true\n",
    "\n",
    "    a_true = a_mask[ab_mask] # Remove entries when both a and b are 0\n",
    "    b_true = b_mask[ab_mask]\n",
    "\n",
    "    idx_a = np.flatnonzero(label_binarizer.classes_ == label_a)[0] # Index of label a class\n",
    "    idx_b = np.flatnonzero(label_binarizer.classes_ == label_b)[0] # Index of label b class\n",
    "\n",
    "    fpr_a, tpr_a, _ = roc_curve(a_true, y_score[ab_mask, idx_a]) # Get fpr and tpr for a\n",
    "    fpr_b, tpr_b, _ = roc_curve(b_true, y_score[ab_mask, idx_b]) # Get fpr and tpr for b\n",
    "    \n",
    "    fpr_grid = np.linspace(0.0, 1.0, 1000)\n",
    "\n",
    "    mean_tpr[ix] = np.zeros_like(fpr_grid) # Macro averaging for 2 classes; ix: index for each pair\n",
    "    mean_tpr[ix] += np.interp(fpr_grid, fpr_a, tpr_a)\n",
    "    mean_tpr[ix] += np.interp(fpr_grid, fpr_b, tpr_b)\n",
    "    mean_tpr[ix] /= 2\n",
    "    mean_score = auc(fpr_grid, mean_tpr[ix])\n",
    "    pair_scores.append(mean_score) # Append score for this pair\n",
    "\n",
    "    fig, ax = plt.subplots(figsize=(6, 6))\n",
    "    # Macro-averaged score\n",
    "    plt.plot(\n",
    "        fpr_grid,\n",
    "        mean_tpr[ix],\n",
    "        label=f\"平均 {label_a} vs {label_b} (AUC = {mean_score :.2f})\",\n",
    "        linestyle=\":\",\n",
    "        linewidth=4,\n",
    "    )\n",
    "    # Label a ROC\n",
    "    RocCurveDisplay.from_predictions(\n",
    "        a_true,\n",
    "        y_score[ab_mask, idx_a],\n",
    "        ax=ax,\n",
    "        name=f\"{label_a} as positive class\",\n",
    "    )\n",
    "    # Label b ROC\n",
    "    RocCurveDisplay.from_predictions(\n",
    "        b_true,\n",
    "        y_score[ab_mask, idx_b],\n",
    "        ax=ax,\n",
    "        name=f\"{label_b} as positive class\",\n",
    "    )\n",
    "    plt.plot([0, 1], [0, 1], \"k--\", label=\"chance level (AUC = 0.5)\")\n",
    "    plt.axis(\"square\")\n",
    "    plt.xlabel(\"False Positive Rate\")\n",
    "    plt.ylabel(\"True Positive Rate\")\n",
    "    plt.title(f\"{target_names[idx_a]} vs {label_b} ROC 分析\")\n",
    "    plt.legend()\n",
    "    plt.show()\n",
    "\n",
    "print(f\"Macro-averaged One-vs-One ROC AUC score:\\n{np.average(pair_scores):.2f}\")"
   ]
  },
  {
   "attachments": {},
   "cell_type": "markdown",
   "metadata": {},
   "source": [
    "### Plot all OvO Curves"
   ]
  },
  {
   "cell_type": "code",
   "execution_count": 21,
   "metadata": {},
   "outputs": [],
   "source": [
    "macro_roc_auc_ovo = roc_auc_score(\n",
    "    y_test,\n",
    "    y_score,\n",
    "    multi_class=\"ovo\",\n",
    "    average=\"macro\",\n",
    ")"
   ]
  },
  {
   "cell_type": "code",
   "execution_count": 22,
   "metadata": {},
   "outputs": [
    {
     "data": {
      "text/plain": [
       "1.0"
      ]
     },
     "execution_count": 22,
     "metadata": {},
     "output_type": "execute_result"
    }
   ],
   "source": [
    "macro_roc_auc_ovo"
   ]
  },
  {
   "cell_type": "code",
   "execution_count": 20,
   "metadata": {},
   "outputs": [
    {
     "data": {
      "image/png": "[encoded data removed]",
      "text/plain": [
       "<Figure size 432x432 with 1 Axes>"
      ]
     },
     "metadata": {
      "needs_background": "light"
     },
     "output_type": "display_data"
    }
   ],
   "source": [
    "ovo_tpr = np.zeros_like(fpr_grid) # To compute average tpr for all pairs\n",
    "\n",
    "fig, ax = plt.subplots(figsize=(6, 6))\n",
    "for ix, (label_a, label_b) in enumerate(pair_list):\n",
    "    ovo_tpr += mean_tpr[ix] # Add to ovo_tpr \n",
    "    plt.plot(\n",
    "        fpr_grid,\n",
    "        mean_tpr[ix],\n",
    "        label=f\"平均 {label_a} vs {label_b} (AUC = {pair_scores[ix]:.2f})\",\n",
    "    )\n",
    "\n",
    "ovo_tpr /= sum(1 for pair in enumerate(pair_list))\n",
    "\n",
    "plt.plot(\n",
    "    fpr_grid,\n",
    "    ovo_tpr,\n",
    "    label=f\"One-vs-One macro-average (AUC = {macro_roc_auc_ovo:.2f})\",\n",
    "    linestyle=\":\",\n",
    "    linewidth=4,\n",
    ")\n",
    "plt.plot([0, 1], [0, 1], \"k--\", label=\"chance level (AUC = 0.5)\")\n",
    "plt.axis(\"square\")\n",
    "plt.xlabel(\"False Positive Rate\")\n",
    "plt.ylabel(\"True Positive Rate\")\n",
    "plt.title(\"Extension of Receiver Operating Characteristic\\nto One-vs-One multiclass\")\n",
    "plt.legend()\n",
    "plt.show()"
   ]
  },
  {
   "cell_type": "markdown",
   "metadata": {
    "collapsed": false
   },
   "source": [
    "## Decision Surface"
   ]
  },
  {
   "cell_type": "code",
   "execution_count": 21,
   "metadata": {},
   "outputs": [
    {
     "data": {
      "text/plain": [
       "1.0"
      ]
     },
     "execution_count": 21,
     "metadata": {},
     "output_type": "execute_result"
    }
   ],
   "source": [
    "clf.score(X_test,y_test)"
   ]
  },
  {
   "cell_type": "code",
   "execution_count": 105,
   "metadata": {
    "collapsed": false
   },
   "outputs": [
    {
     "name": "stderr",
     "output_type": "stream",
     "text": [
      "/opt/homebrew/Caskroom/miniconda/base/envs/bio/lib/python3.11/site-packages/seaborn/_core.py:163: FutureWarning: elementwise comparison failed; returning scalar instead, but in the future will perform elementwise comparison\n",
      "  if palette in QUAL_PALETTES:\n"
     ]
    },
    {
     "data": {
      "image/png": "[encoded data removed]",
      "text/plain": [
       "<Figure size 432x432 with 1 Axes>"
      ]
     },
     "metadata": {
      "needs_background": "light"
     },
     "output_type": "display_data"
    }
   ],
   "source": [
    "from sklearn.preprocessing import OrdinalEncoder\n",
    "import matplotlib.colors as colors\n",
    "\n",
    "def truncate_colormap(cmap, minval=0.0, maxval=1.0, n=100):\n",
    "    new_cmap = colors.LinearSegmentedColormap.from_list(\n",
    "        'trunc({n},{a:.2f},{b:.2f})'.format(n=cmap.name, a=minval, b=maxval),\n",
    "        cmap(np.linspace(minval, maxval, n)))\n",
    "    return new_cmap\n",
    "\n",
    "plot_step = 0.002\n",
    "plot_step_coarser = 0.1\n",
    "n_classes = 3\n",
    "\n",
    "cmap = plt.colormaps[\"viridis\"]\n",
    "cmap = truncate_colormap(cmap,0.2,0.8)\n",
    "sampleColor = cmap(np.linspace(0,1,n_classes))\n",
    "cmap = colors.ListedColormap(sampleColor)\n",
    "\n",
    "\n",
    "fig, ax = plt.subplots(figsize=(6, 6))\n",
    "\n",
    "x_min, x_max = X[:, 0].min() - 0.1, X[:, 0].max() + 0.1\n",
    "y_min, y_max = X[:, 1].min() - 0.1, X[:, 1].max() + 0.1\n",
    "xx, yy = np.meshgrid(\n",
    "    np.arange(x_min, x_max, plot_step), np.arange(y_min, y_max, plot_step)\n",
    ")\n",
    "\n",
    "# Make ordinal encoder\n",
    "od = OrdinalEncoder().fit(y_train.reshape(-1, 1))\n",
    "\n",
    "# Plot contour\n",
    "Z = clf.predict(np.c_[xx.ravel(), yy.ravel()])\n",
    "Z = od.transform(Z.reshape(-1,1))\n",
    "Z = Z.reshape(xx.shape)\n",
    "cs = plt.contourf(xx, yy, Z, cmap=cmap, alpha=.85)\n",
    "\n",
    "# Plot points\n",
    "# xx_coarser, yy_coarser = np.meshgrid(\n",
    "#     np.arange(x_min, x_max, plot_step_coarser),\n",
    "#     np.arange(y_min, y_max, plot_step_coarser),\n",
    "# )\n",
    "# Z_points_coarser = clf.predict(\n",
    "#     np.c_[xx_coarser.ravel(), yy_coarser.ravel()]\n",
    "# )\n",
    "# Z_points_coarser = od.transform(Z_points_coarser.reshape(-1, 1))\n",
    "# Z_points_coarser = Z_points_coarser.reshape(xx_coarser.shape)\n",
    "# cs_points = plt.scatter(\n",
    "#     xx_coarser,\n",
    "#     yy_coarser,\n",
    "#     s=100,\n",
    "#     c=Z_points_coarser,\n",
    "#     cmap=cmap,\n",
    "#     edgecolors=\"none\",\n",
    "# )\n",
    "\n",
    "# Plot training points\n",
    "# plt.scatter(\n",
    "#     X[:, 0],\n",
    "#     X[:, 1],\n",
    "#     c = od.transform(y.reshape(-1,1)),\n",
    "#     cmap=cmap,\n",
    "#     edgecolor=\"black\",\n",
    "#     s=40,\n",
    "# )\n",
    "\n",
    "# matplotlib.cm.register_cmap(\"mycolormap\", cmap)\n",
    "# cpal = sns.color_palette(\"mycolormap\", n_colors=3)\n",
    "# cpal = np.array(cpal)[[1,0,2],:]\n",
    "\n",
    "cpal = sampleColor[[1,0,2],0:3]\n",
    "\n",
    "sns.scatterplot(data = df, x = \"x1\", y=\"x2\", hue = \"y\", marker=\"^\", edgecolor = \"black\", palette=cpal)\n",
    "plt.legend(title= \"图例\", fontsize=12)\n",
    "plt.xlabel(\"δ29\", fontsize=12)\n",
    "plt.ylabel(\"δ30\", fontsize=12)\n",
    "plt.title(\"模型分类边界\", fontsize=12)\n",
    "plt.grid(False)\n",
    "plt.show()"
   ]
  },
  {
   "attachments": {},
   "cell_type": "markdown",
   "metadata": {},
   "source": [
    "## Test on mock data"
   ]
  },
  {
   "cell_type": "code",
   "execution_count": 12,
   "metadata": {},
   "outputs": [],
   "source": [
    "mock_pred = pd.read_csv('~/R Projects/rfApp/streamlit_app/data/dev/mock_pred_noY.csv', header=0, encoding = \"utf8\", index_col=False)\n",
    "# y_data = mock_pred.iloc[:,0].to_numpy()\n",
    "x_data = mock_pred.iloc[:,0:2].to_numpy()"
   ]
  },
  {
   "cell_type": "code",
   "execution_count": 13,
   "metadata": {},
   "outputs": [],
   "source": [
    "y_pred = clf.predict(x_data)\n",
    "y_score = clf.predict_proba(x_data)\n",
    "y_total = pd.DataFrame(np.concatenate((y_pred.reshape(-1,1),y_score,x_data),axis=1),columns = [\"预测\",\"混合源\",\"矿砂源\",\"稻壳源\",\"x1\",\"x2\"])"
   ]
  },
  {
   "cell_type": "code",
   "execution_count": 14,
   "metadata": {},
   "outputs": [
    {
     "data": {
      "text/html": [
       "<div>\n",
       "<style scoped>\n",
       "    .dataframe tbody tr th:only-of-type {\n",
       "        vertical-align: middle;\n",
       "    }\n",
       "\n",
       "    .dataframe tbody tr th {\n",
       "        vertical-align: top;\n",
       "    }\n",
       "\n",
       "    .dataframe thead th {\n",
       "        text-align: right;\n",
       "    }\n",
       "</style>\n",
       "<table border=\"1\" class=\"dataframe\">\n",
       "  <thead>\n",
       "    <tr style=\"text-align: right;\">\n",
       "      <th></th>\n",
       "      <th>预测</th>\n",
       "      <th>混合源</th>\n",
       "      <th>矿砂源</th>\n",
       "      <th>稻壳源</th>\n",
       "      <th>x1</th>\n",
       "      <th>x2</th>\n",
       "    </tr>\n",
       "  </thead>\n",
       "  <tbody>\n",
       "    <tr>\n",
       "      <th>0</th>\n",
       "      <td>混合源</td>\n",
       "      <td>1.0</td>\n",
       "      <td>0.0</td>\n",
       "      <td>0.0</td>\n",
       "      <td>0.120301</td>\n",
       "      <td>0.300968</td>\n",
       "    </tr>\n",
       "    <tr>\n",
       "      <th>1</th>\n",
       "      <td>混合源</td>\n",
       "      <td>0.92</td>\n",
       "      <td>0.02</td>\n",
       "      <td>0.06</td>\n",
       "      <td>0.06179</td>\n",
       "      <td>0.492627</td>\n",
       "    </tr>\n",
       "    <tr>\n",
       "      <th>2</th>\n",
       "      <td>混合源</td>\n",
       "      <td>0.97</td>\n",
       "      <td>0.0</td>\n",
       "      <td>0.03</td>\n",
       "      <td>0.172015</td>\n",
       "      <td>0.410474</td>\n",
       "    </tr>\n",
       "    <tr>\n",
       "      <th>3</th>\n",
       "      <td>混合源</td>\n",
       "      <td>0.97</td>\n",
       "      <td>0.0</td>\n",
       "      <td>0.03</td>\n",
       "      <td>0.123064</td>\n",
       "      <td>0.445471</td>\n",
       "    </tr>\n",
       "    <tr>\n",
       "      <th>4</th>\n",
       "      <td>混合源</td>\n",
       "      <td>0.94</td>\n",
       "      <td>0.06</td>\n",
       "      <td>0.0</td>\n",
       "      <td>0.141781</td>\n",
       "      <td>0.148358</td>\n",
       "    </tr>\n",
       "    <tr>\n",
       "      <th>5</th>\n",
       "      <td>混合源</td>\n",
       "      <td>1.0</td>\n",
       "      <td>0.0</td>\n",
       "      <td>0.0</td>\n",
       "      <td>0.156208</td>\n",
       "      <td>0.330221</td>\n",
       "    </tr>\n",
       "    <tr>\n",
       "      <th>6</th>\n",
       "      <td>混合源</td>\n",
       "      <td>1.0</td>\n",
       "      <td>0.0</td>\n",
       "      <td>0.0</td>\n",
       "      <td>0.187865</td>\n",
       "      <td>0.246684</td>\n",
       "    </tr>\n",
       "    <tr>\n",
       "      <th>7</th>\n",
       "      <td>混合源</td>\n",
       "      <td>1.0</td>\n",
       "      <td>0.0</td>\n",
       "      <td>0.0</td>\n",
       "      <td>0.171828</td>\n",
       "      <td>0.286788</td>\n",
       "    </tr>\n",
       "    <tr>\n",
       "      <th>8</th>\n",
       "      <td>混合源</td>\n",
       "      <td>1.0</td>\n",
       "      <td>0.0</td>\n",
       "      <td>0.0</td>\n",
       "      <td>0.12924</td>\n",
       "      <td>0.322132</td>\n",
       "    </tr>\n",
       "    <tr>\n",
       "      <th>9</th>\n",
       "      <td>混合源</td>\n",
       "      <td>1.0</td>\n",
       "      <td>0.0</td>\n",
       "      <td>0.0</td>\n",
       "      <td>0.161739</td>\n",
       "      <td>0.227963</td>\n",
       "    </tr>\n",
       "    <tr>\n",
       "      <th>10</th>\n",
       "      <td>矿砂源</td>\n",
       "      <td>0.13</td>\n",
       "      <td>0.87</td>\n",
       "      <td>0.0</td>\n",
       "      <td>-0.074647</td>\n",
       "      <td>-0.028732</td>\n",
       "    </tr>\n",
       "    <tr>\n",
       "      <th>11</th>\n",
       "      <td>矿砂源</td>\n",
       "      <td>0.0</td>\n",
       "      <td>1.0</td>\n",
       "      <td>0.0</td>\n",
       "      <td>-0.09005</td>\n",
       "      <td>-0.168966</td>\n",
       "    </tr>\n",
       "    <tr>\n",
       "      <th>12</th>\n",
       "      <td>矿砂源</td>\n",
       "      <td>0.0</td>\n",
       "      <td>1.0</td>\n",
       "      <td>0.0</td>\n",
       "      <td>-0.146287</td>\n",
       "      <td>-0.450231</td>\n",
       "    </tr>\n",
       "    <tr>\n",
       "      <th>13</th>\n",
       "      <td>矿砂源</td>\n",
       "      <td>0.14</td>\n",
       "      <td>0.86</td>\n",
       "      <td>0.0</td>\n",
       "      <td>-0.193418</td>\n",
       "      <td>-0.003501</td>\n",
       "    </tr>\n",
       "    <tr>\n",
       "      <th>14</th>\n",
       "      <td>矿砂源</td>\n",
       "      <td>0.0</td>\n",
       "      <td>1.0</td>\n",
       "      <td>0.0</td>\n",
       "      <td>-0.043426</td>\n",
       "      <td>-0.097704</td>\n",
       "    </tr>\n",
       "    <tr>\n",
       "      <th>15</th>\n",
       "      <td>矿砂源</td>\n",
       "      <td>0.0</td>\n",
       "      <td>1.0</td>\n",
       "      <td>0.0</td>\n",
       "      <td>-0.107387</td>\n",
       "      <td>-0.567569</td>\n",
       "    </tr>\n",
       "    <tr>\n",
       "      <th>16</th>\n",
       "      <td>矿砂源</td>\n",
       "      <td>0.0</td>\n",
       "      <td>1.0</td>\n",
       "      <td>0.0</td>\n",
       "      <td>-0.092343</td>\n",
       "      <td>-0.282145</td>\n",
       "    </tr>\n",
       "    <tr>\n",
       "      <th>17</th>\n",
       "      <td>矿砂源</td>\n",
       "      <td>0.0</td>\n",
       "      <td>1.0</td>\n",
       "      <td>0.0</td>\n",
       "      <td>-0.166704</td>\n",
       "      <td>-0.213949</td>\n",
       "    </tr>\n",
       "    <tr>\n",
       "      <th>18</th>\n",
       "      <td>矿砂源</td>\n",
       "      <td>0.0</td>\n",
       "      <td>1.0</td>\n",
       "      <td>0.0</td>\n",
       "      <td>-0.126662</td>\n",
       "      <td>-0.343462</td>\n",
       "    </tr>\n",
       "    <tr>\n",
       "      <th>19</th>\n",
       "      <td>矿砂源</td>\n",
       "      <td>0.16</td>\n",
       "      <td>0.84</td>\n",
       "      <td>0.0</td>\n",
       "      <td>-0.009008</td>\n",
       "      <td>-0.131532</td>\n",
       "    </tr>\n",
       "    <tr>\n",
       "      <th>20</th>\n",
       "      <td>稻壳源</td>\n",
       "      <td>0.0</td>\n",
       "      <td>0.0</td>\n",
       "      <td>1.0</td>\n",
       "      <td>0.403506</td>\n",
       "      <td>0.827539</td>\n",
       "    </tr>\n",
       "    <tr>\n",
       "      <th>21</th>\n",
       "      <td>稻壳源</td>\n",
       "      <td>0.0</td>\n",
       "      <td>0.0</td>\n",
       "      <td>1.0</td>\n",
       "      <td>0.387781</td>\n",
       "      <td>0.635923</td>\n",
       "    </tr>\n",
       "    <tr>\n",
       "      <th>22</th>\n",
       "      <td>稻壳源</td>\n",
       "      <td>0.0</td>\n",
       "      <td>0.0</td>\n",
       "      <td>1.0</td>\n",
       "      <td>0.339654</td>\n",
       "      <td>0.788381</td>\n",
       "    </tr>\n",
       "    <tr>\n",
       "      <th>23</th>\n",
       "      <td>稻壳源</td>\n",
       "      <td>0.0</td>\n",
       "      <td>0.0</td>\n",
       "      <td>1.0</td>\n",
       "      <td>0.375652</td>\n",
       "      <td>0.64216</td>\n",
       "    </tr>\n",
       "    <tr>\n",
       "      <th>24</th>\n",
       "      <td>稻壳源</td>\n",
       "      <td>0.0</td>\n",
       "      <td>0.0</td>\n",
       "      <td>1.0</td>\n",
       "      <td>0.355949</td>\n",
       "      <td>0.966389</td>\n",
       "    </tr>\n",
       "    <tr>\n",
       "      <th>25</th>\n",
       "      <td>稻壳源</td>\n",
       "      <td>0.0</td>\n",
       "      <td>0.0</td>\n",
       "      <td>1.0</td>\n",
       "      <td>0.35392</td>\n",
       "      <td>0.734443</td>\n",
       "    </tr>\n",
       "    <tr>\n",
       "      <th>26</th>\n",
       "      <td>稻壳源</td>\n",
       "      <td>0.0</td>\n",
       "      <td>0.0</td>\n",
       "      <td>1.0</td>\n",
       "      <td>0.346605</td>\n",
       "      <td>0.88074</td>\n",
       "    </tr>\n",
       "    <tr>\n",
       "      <th>27</th>\n",
       "      <td>稻壳源</td>\n",
       "      <td>0.0</td>\n",
       "      <td>0.0</td>\n",
       "      <td>1.0</td>\n",
       "      <td>0.35674</td>\n",
       "      <td>0.724847</td>\n",
       "    </tr>\n",
       "    <tr>\n",
       "      <th>28</th>\n",
       "      <td>稻壳源</td>\n",
       "      <td>0.0</td>\n",
       "      <td>0.0</td>\n",
       "      <td>1.0</td>\n",
       "      <td>0.392718</td>\n",
       "      <td>0.854557</td>\n",
       "    </tr>\n",
       "    <tr>\n",
       "      <th>29</th>\n",
       "      <td>稻壳源</td>\n",
       "      <td>0.0</td>\n",
       "      <td>0.0</td>\n",
       "      <td>1.0</td>\n",
       "      <td>0.408099</td>\n",
       "      <td>0.85187</td>\n",
       "    </tr>\n",
       "  </tbody>\n",
       "</table>\n",
       "</div>"
      ],
      "text/plain": [
       "     预测   混合源   矿砂源   稻壳源        x1        x2\n",
       "0   混合源   1.0   0.0   0.0  0.120301  0.300968\n",
       "1   混合源  0.92  0.02  0.06   0.06179  0.492627\n",
       "2   混合源  0.97   0.0  0.03  0.172015  0.410474\n",
       "3   混合源  0.97   0.0  0.03  0.123064  0.445471\n",
       "4   混合源  0.94  0.06   0.0  0.141781  0.148358\n",
       "5   混合源   1.0   0.0   0.0  0.156208  0.330221\n",
       "6   混合源   1.0   0.0   0.0  0.187865  0.246684\n",
       "7   混合源   1.0   0.0   0.0  0.171828  0.286788\n",
       "8   混合源   1.0   0.0   0.0   0.12924  0.322132\n",
       "9   混合源   1.0   0.0   0.0  0.161739  0.227963\n",
       "10  矿砂源  0.13  0.87   0.0 -0.074647 -0.028732\n",
       "11  矿砂源   0.0   1.0   0.0  -0.09005 -0.168966\n",
       "12  矿砂源   0.0   1.0   0.0 -0.146287 -0.450231\n",
       "13  矿砂源  0.14  0.86   0.0 -0.193418 -0.003501\n",
       "14  矿砂源   0.0   1.0   0.0 -0.043426 -0.097704\n",
       "15  矿砂源   0.0   1.0   0.0 -0.107387 -0.567569\n",
       "16  矿砂源   0.0   1.0   0.0 -0.092343 -0.282145\n",
       "17  矿砂源   0.0   1.0   0.0 -0.166704 -0.213949\n",
       "18  矿砂源   0.0   1.0   0.0 -0.126662 -0.343462\n",
       "19  矿砂源  0.16  0.84   0.0 -0.009008 -0.131532\n",
       "20  稻壳源   0.0   0.0   1.0  0.403506  0.827539\n",
       "21  稻壳源   0.0   0.0   1.0  0.387781  0.635923\n",
       "22  稻壳源   0.0   0.0   1.0  0.339654  0.788381\n",
       "23  稻壳源   0.0   0.0   1.0  0.375652   0.64216\n",
       "24  稻壳源   0.0   0.0   1.0  0.355949  0.966389\n",
       "25  稻壳源   0.0   0.0   1.0   0.35392  0.734443\n",
       "26  稻壳源   0.0   0.0   1.0  0.346605   0.88074\n",
       "27  稻壳源   0.0   0.0   1.0   0.35674  0.724847\n",
       "28  稻壳源   0.0   0.0   1.0  0.392718  0.854557\n",
       "29  稻壳源   0.0   0.0   1.0  0.408099   0.85187"
      ]
     },
     "execution_count": 14,
     "metadata": {},
     "output_type": "execute_result"
    }
   ],
   "source": [
    "y_total"
   ]
  },
  {
   "cell_type": "code",
   "execution_count": 15,
   "metadata": {},
   "outputs": [
    {
     "data": {
      "image/png": "[encoded data removed]",
      "text/plain": [
       "<Figure size 432x432 with 1 Axes>"
      ]
     },
     "metadata": {
      "needs_background": "light"
     },
     "output_type": "display_data"
    }
   ],
   "source": [
    "from sklearn.preprocessing import OrdinalEncoder\n",
    "import matplotlib.colors as colors\n",
    "\n",
    "res = y_total\n",
    "def truncate_colormap(cmap, minval=0.0, maxval=1.0, n=100):\n",
    "        new_cmap = colors.LinearSegmentedColormap.from_list(\n",
    "        'trunc({n},{a:.2f},{b:.2f})'.format(n=cmap.name, a=minval, b=maxval),\n",
    "        cmap(np.linspace(minval, maxval, n)))\n",
    "        return new_cmap\n",
    "\n",
    "plot_step = 0.002\n",
    "n_classes = 3\n",
    "\n",
    "labels = res.iloc[:,0].to_numpy()\n",
    "X = res.iloc[:,4:6].to_numpy()\n",
    "\n",
    "cmap = plt.colormaps[\"viridis\"]\n",
    "cmap = truncate_colormap(cmap,0.2,0.8)\n",
    "sampleColor = cmap(np.linspace(0,1,n_classes))\n",
    "cmap = colors.ListedColormap(sampleColor)\n",
    "\n",
    "fig, ax = plt.subplots(figsize=(6, 6))\n",
    "\n",
    "x_min, x_max = X[:, 0].min() - 0.1, X[:, 0].max() + 0.1\n",
    "y_min, y_max = X[:, 1].min() - 0.1, X[:, 1].max() + 0.1\n",
    "xx, yy = np.meshgrid(\n",
    "    np.arange(x_min, x_max, plot_step), np.arange(y_min, y_max, plot_step)\n",
    ")\n",
    "\n",
    "# Make ordinal encoder\n",
    "od = OrdinalEncoder().fit(labels.reshape(-1, 1))\n",
    "\n",
    "# Plot contour\n",
    "Z = clf.predict(np.c_[xx.ravel(), yy.ravel()])\n",
    "Z = od.transform(Z.reshape(-1,1))\n",
    "Z = Z.reshape(xx.shape)\n",
    "cs = plt.contourf(xx, yy, Z, cmap=cmap, alpha=.85)\n",
    "\n",
    "grouped = y_total.groupby(\"预测\")\n",
    "for (name, group), col in zip(grouped, sampleColor):\n",
    "    ax.scatter(group[\"x1\"], group[\"x2\"], color=col, edgecolors = \"black\", marker=\"^\", linestyle=\"\", label=name)\n",
    "\n",
    "# Hollow circles\n",
    "# for (cat, group), col in zip(res.groupby(\"预测\"), sampleColor):\n",
    "#     ax.scatter(group.x1, group.x2, color = col, edgecolors= \"black\", facecolors=\"none\", alpha=0.7, label=cat, marker=\"^\")\n",
    "\n",
    "plt.legend(title= \"图例\", fontsize=12)\n",
    "plt.xlabel(\"δ29\", fontsize=12)\n",
    "plt.ylabel(\"δ30\", fontsize=12)\n",
    "plt.title(\"模型分类边界\", fontsize=12)\n",
    "plt.grid(False)"
   ]
  },
  {
   "cell_type": "code",
   "execution_count": 30,
   "metadata": {},
   "outputs": [
    {
     "name": "stdout",
     "output_type": "stream",
     "text": [
      "混合源\n",
      "矿砂源\n",
      "稻壳源\n"
     ]
    }
   ],
   "source": [
    "import itertools\n",
    "add = pd.DataFrame({\"x1\":itertools.repeat(1,10)})\n",
    "res1 = pd.concat([res,add])\n",
    "for (cat,group) in res1.groupby(\"预测\"):\n",
    "    print(cat)"
   ]
  },
  {
   "cell_type": "code",
   "execution_count": 28,
   "metadata": {},
   "outputs": [
    {
     "data": {
      "text/plain": [
       "30"
      ]
     },
     "execution_count": 28,
     "metadata": {},
     "output_type": "execute_result"
    }
   ],
   "source": [
    "df.shape[0]"
   ]
  }
 ],
 "metadata": {
  "kernelspec": {
   "display_name": "bio",
   "language": "python",
   "name": "python3"
  },
  "language_info": {
   "codemirror_mode": {
    "name": "ipython",
    "version": 3
   },
   "file_extension": ".py",
   "mimetype": "text/x-python",
   "name": "python",
   "nbconvert_exporter": "python",
   "pygments_lexer": "ipython3",
   "version": "3.11.3"
  }
 },
 "nbformat": 4,
 "nbformat_minor": 4
}
